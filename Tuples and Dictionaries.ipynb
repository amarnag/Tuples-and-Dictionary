{
 "cells": [
  {
   "cell_type": "markdown",
   "id": "f5d84f41",
   "metadata": {},
   "source": [
    "### Tuples"
   ]
  },
  {
   "cell_type": "markdown",
   "id": "f94fcddf",
   "metadata": {},
   "source": [
    "Tuple (like the list type this is a data collection type)\n",
    "Note a pair of numbers 3,4 is referred to as a tuple. There are tuples of various sizes: 3,4 and 3,4,5 and 3,4,5,6 are all tuples. They do not have to be numbers. The following are also tuples: 'a,','b' and x, y, z and \"Morning\", \"Afternoon\", \"Evening\". In Python we can set tuples equal to other tuples as follows:"
   ]
  },
  {
   "cell_type": "code",
   "execution_count": 2,
   "id": "a4031535",
   "metadata": {},
   "outputs": [
    {
     "name": "stdout",
     "output_type": "stream",
     "text": [
      "2 3\n"
     ]
    }
   ],
   "source": [
    "a,b = 2,3\n",
    "print(a,b)"
   ]
  },
  {
   "cell_type": "code",
   "execution_count": 3,
   "id": "726b75cf",
   "metadata": {},
   "outputs": [
    {
     "name": "stdout",
     "output_type": "stream",
     "text": [
      "6 4 9\n",
      "4\n"
     ]
    }
   ],
   "source": [
    "x,y,z = 6,4,9\n",
    "print(x,y,z)\n",
    "print(y)"
   ]
  },
  {
   "cell_type": "markdown",
   "id": "3dd8c2a3",
   "metadata": {},
   "source": [
    "The tuple 4,6,8 is written by Python with parentheses: (4,6,8)"
   ]
  },
  {
   "cell_type": "code",
   "execution_count": 4,
   "id": "20e4e3a4",
   "metadata": {},
   "outputs": [
    {
     "data": {
      "text/plain": [
       "(4, 6, 8)"
      ]
     },
     "execution_count": 4,
     "metadata": {},
     "output_type": "execute_result"
    }
   ],
   "source": [
    "4,6,8"
   ]
  },
  {
   "cell_type": "markdown",
   "id": "e433a6a1",
   "metadata": {},
   "source": [
    "The items in tuples can be accessed much like those in a list, but unlike a\n",
    "list, a tuple cannot be changed. One cannot add to a tuple or remove an item \n",
    "from a tuple. It is said to be immutable. \n",
    "\n",
    "Let's define a tuple and look at how to access its items:"
   ]
  },
  {
   "cell_type": "code",
   "execution_count": 5,
   "id": "27b833d7",
   "metadata": {},
   "outputs": [],
   "source": [
    "tup = ('a','e','i','o','u')"
   ]
  },
  {
   "cell_type": "code",
   "execution_count": 7,
   "id": "80bf2c7c",
   "metadata": {},
   "outputs": [
    {
     "name": "stdout",
     "output_type": "stream",
     "text": [
      "Tuple is ('a', 'e', 'i', 'o', 'u')\n",
      "a\n",
      "u\n",
      "o\n",
      "('e', 'i')\n",
      "('a', 'e', 'i')\n"
     ]
    }
   ],
   "source": [
    "print(\"Tuple is\", tup)\n",
    "print(tup[0])\n",
    "print(tup[-1])\n",
    "print(tup[3])\n",
    "print(tup[1:3])\n",
    "print(tup[:3])"
   ]
  },
  {
   "cell_type": "markdown",
   "id": "d56ee665",
   "metadata": {},
   "source": [
    "### DICTIONARIES\n",
    "\n",
    "Dictionary data type (another collection datatype along with list and tuple): d = {} creates an empty dictionary\n",
    "d={key1:value1, key2:value2, key3:value3} - use key to find the value\n",
    "d[key2] gives value2, etc.\n",
    "Lists and strings are in order and you can use slicing to single out an item: lis[3] or strg[3] give the item with index 3 in the list or string. This won't work with dictionaries. So you use d[key] to get the value that goes with key."
   ]
  },
  {
   "cell_type": "code",
   "execution_count": 8,
   "id": "ba1caa82",
   "metadata": {},
   "outputs": [],
   "source": [
    "d = {\"Johnny\": \"5 years old\", \"Sally\": \"7 years old\", \"Eva\":\"10 years old\",\n",
    " \"Peggy\": \"7 years old\"}"
   ]
  },
  {
   "cell_type": "code",
   "execution_count": 11,
   "id": "b8a5630b",
   "metadata": {},
   "outputs": [
    {
     "ename": "KeyError",
     "evalue": "0",
     "output_type": "error",
     "traceback": [
      "\u001b[1;31m---------------------------------------------------------------------------\u001b[0m",
      "\u001b[1;31mKeyError\u001b[0m                                  Traceback (most recent call last)",
      "\u001b[1;32mC:\\Users\\AMAR~1.GAD\\AppData\\Local\\Temp/ipykernel_2936/2332404440.py\u001b[0m in \u001b[0;36m<module>\u001b[1;34m\u001b[0m\n\u001b[1;32m----> 1\u001b[1;33m \u001b[0md\u001b[0m\u001b[1;33m[\u001b[0m\u001b[1;36m0\u001b[0m\u001b[1;33m]\u001b[0m  \u001b[1;31m# gives an error\u001b[0m\u001b[1;33m\u001b[0m\u001b[1;33m\u001b[0m\u001b[0m\n\u001b[0m",
      "\u001b[1;31mKeyError\u001b[0m: 0"
     ]
    }
   ],
   "source": [
    "d[0]  # gives an error"
   ]
  },
  {
   "cell_type": "code",
   "execution_count": 13,
   "id": "e51ce1eb",
   "metadata": {},
   "outputs": [
    {
     "data": {
      "text/plain": [
       "'7 years old'"
      ]
     },
     "execution_count": 13,
     "metadata": {},
     "output_type": "execute_result"
    }
   ],
   "source": [
    "d[\"Sally\"]"
   ]
  },
  {
   "cell_type": "code",
   "execution_count": 14,
   "id": "243da1a3",
   "metadata": {},
   "outputs": [
    {
     "name": "stdout",
     "output_type": "stream",
     "text": [
      "{'Johnny': '5 years old', 'Sally': '7 years old', 'Eva': '10 years old', 'Peggy': '7 years old'}\n"
     ]
    }
   ],
   "source": [
    "print(d)"
   ]
  },
  {
   "cell_type": "code",
   "execution_count": 16,
   "id": "48743562",
   "metadata": {},
   "outputs": [
    {
     "data": {
      "text/plain": [
       "dict_items([('Johnny', '5 years old'), ('Sally', '7 years old'), ('Eva', '10 years old'), ('Peggy', '7 years old')])"
      ]
     },
     "execution_count": 16,
     "metadata": {},
     "output_type": "execute_result"
    }
   ],
   "source": [
    "d.items() # this gives the items in the form of a list of tuples"
   ]
  },
  {
   "cell_type": "code",
   "execution_count": 17,
   "id": "9cfd767e",
   "metadata": {},
   "outputs": [
    {
     "data": {
      "text/plain": [
       "dict_keys(['Johnny', 'Sally', 'Eva', 'Peggy'])"
      ]
     },
     "execution_count": 17,
     "metadata": {},
     "output_type": "execute_result"
    }
   ],
   "source": [
    "d.keys() # this gives the keys"
   ]
  },
  {
   "cell_type": "code",
   "execution_count": 18,
   "id": "14b65cd7",
   "metadata": {},
   "outputs": [
    {
     "data": {
      "text/plain": [
       "dict_values(['5 years old', '7 years old', '10 years old', '7 years old'])"
      ]
     },
     "execution_count": 18,
     "metadata": {},
     "output_type": "execute_result"
    }
   ],
   "source": [
    "d.values() # this gives the values"
   ]
  },
  {
   "cell_type": "markdown",
   "id": "3bb0c564",
   "metadata": {},
   "source": [
    "Note also that the keys must be unique but the values don't have to be\n",
    "Accessing."
   ]
  },
  {
   "cell_type": "code",
   "execution_count": 20,
   "id": "ff1184d3",
   "metadata": {},
   "outputs": [
    {
     "name": "stdout",
     "output_type": "stream",
     "text": [
      "Johnny -->  5 years old\n",
      "Sally -->  7 years old\n",
      "Eva -->  10 years old\n",
      "Peggy -->  7 years old\n"
     ]
    }
   ],
   "source": [
    "for key, value in d.items():\n",
    "    print(key, \"--> \", value)"
   ]
  },
  {
   "cell_type": "code",
   "execution_count": 21,
   "id": "c48cea82",
   "metadata": {},
   "outputs": [
    {
     "name": "stdout",
     "output_type": "stream",
     "text": [
      "('Johnny', '5 years old')\n",
      "('Sally', '7 years old')\n",
      "('Eva', '10 years old')\n",
      "('Peggy', '7 years old')\n"
     ]
    }
   ],
   "source": [
    "for item in d.items():\n",
    "    print(item)"
   ]
  },
  {
   "cell_type": "code",
   "execution_count": 22,
   "id": "f3c183d5",
   "metadata": {},
   "outputs": [
    {
     "name": "stdout",
     "output_type": "stream",
     "text": [
      "('Johnny', '5 years old')\n",
      "Johnny -->  5 years old\n",
      "('Sally', '7 years old')\n",
      "Sally -->  7 years old\n",
      "('Eva', '10 years old')\n",
      "Eva -->  10 years old\n",
      "('Peggy', '7 years old')\n",
      "Peggy -->  7 years old\n"
     ]
    }
   ],
   "source": [
    "for item in d.items():\n",
    "    print(item)\n",
    "    print(item[0], \"--> \", item[1])"
   ]
  },
  {
   "cell_type": "code",
   "execution_count": 23,
   "id": "abf18fd6",
   "metadata": {},
   "outputs": [
    {
     "name": "stdout",
     "output_type": "stream",
     "text": [
      "Johnny --> 5 years old\n",
      "Sally --> 7 years old\n",
      "Eva --> 10 years old\n",
      "Peggy --> 7 years old\n"
     ]
    }
   ],
   "source": [
    "for item in d.items():\n",
    "    print(item[0], \"-->\", item[1])"
   ]
  },
  {
   "cell_type": "code",
   "execution_count": 24,
   "id": "f0ac2189",
   "metadata": {},
   "outputs": [
    {
     "name": "stdout",
     "output_type": "stream",
     "text": [
      "Johnny\n",
      "Sally\n",
      "Eva\n",
      "Peggy\n"
     ]
    }
   ],
   "source": [
    "for key in d:\n",
    "    print(key)"
   ]
  },
  {
   "cell_type": "code",
   "execution_count": 25,
   "id": "55f51821",
   "metadata": {},
   "outputs": [
    {
     "name": "stdout",
     "output_type": "stream",
     "text": [
      "Johnny\n",
      "Sally\n",
      "Eva\n",
      "Peggy\n"
     ]
    }
   ],
   "source": [
    "for key in d.keys():\n",
    "    print(key)"
   ]
  },
  {
   "cell_type": "code",
   "execution_count": 27,
   "id": "8ad8ff79",
   "metadata": {},
   "outputs": [
    {
     "name": "stdout",
     "output_type": "stream",
     "text": [
      "5 years old\n",
      "7 years old\n",
      "10 years old\n",
      "7 years old\n"
     ]
    }
   ],
   "source": [
    "for value in d.values():\n",
    "    print(value)"
   ]
  },
  {
   "cell_type": "code",
   "execution_count": 29,
   "id": "9c916a0c",
   "metadata": {},
   "outputs": [
    {
     "data": {
      "text/plain": [
       "{'Johnny': '5 years old',\n",
       " 'Sally': '7 years old',\n",
       " 'Eva': '10 years old',\n",
       " 'Peggy': '7 years old',\n",
       " 'Ted': '5 years old'}"
      ]
     },
     "execution_count": 29,
     "metadata": {},
     "output_type": "execute_result"
    }
   ],
   "source": [
    "d[\"Ted\"] = \"5 years old\"\n",
    "d"
   ]
  },
  {
   "cell_type": "markdown",
   "id": "c18bedf7",
   "metadata": {},
   "source": [
    "- d[\"sally\"] gives an error because \"s\" is not capitalized\n",
    "- d[\"Jim\"] gives an error because \"Jim\" is not a key.\n",
    "- d[\"5 years old\"] gives an error because \"5 years old\" is a value not a key"
   ]
  },
  {
   "cell_type": "markdown",
   "id": "e6094c9a",
   "metadata": {},
   "source": [
    "#### Exercise:\n",
    "\n",
    "Consider the following dictionary of US News and World Reports list of best affordable sportscars (ascars). Execute the line below so that you have the  dictionary in your IPython console. Then answer (retrieve) the following. Press <esc> if you lock up on some step.\n",
    "    \n",
    "a) Type ascars to display the dictionary\n",
    "    \n",
    "b) Using the key retrieve the Nissan sportcar.\n",
    "    \n",
    "b) Using the key retrieve the Chevy sportscar.\n",
    "    \n",
    "c) Change the MINI Cooper car to a \"Coupe\". Display ascars to check that it worked.\n",
    "    \n",
    "d) Write a small 2 line loop to display all the values and only the values\n",
    "    \n",
    "e) Write a small 2 line loop to display all the keys (and only the keys)."
   ]
  },
  {
   "cell_type": "code",
   "execution_count": 30,
   "id": "57631adc",
   "metadata": {},
   "outputs": [],
   "source": [
    "ascars = {\"Ford\" : \"Mustang\",\"Mazda\" : \"Miata\", \"Scion\" : \"FR-S\", \n",
    "\"Subaru\" : \"BRZ\",\"Dodge\" : \"Challenger\", \"Nissan\" : \"370Z\", \"Chevy\" : \"Camaro\", \n",
    "\"Hyundai\" : \"Genesis Coupe\" , \"MINI Cooper\" : \"Roadster\"}"
   ]
  },
  {
   "cell_type": "code",
   "execution_count": 31,
   "id": "7f7a48e1",
   "metadata": {},
   "outputs": [
    {
     "data": {
      "text/plain": [
       "{'Ford': 'Mustang',\n",
       " 'Mazda': 'Miata',\n",
       " 'Scion': 'FR-S',\n",
       " 'Subaru': 'BRZ',\n",
       " 'Dodge': 'Challenger',\n",
       " 'Nissan': '370Z',\n",
       " 'Chevy': 'Camaro',\n",
       " 'Hyundai': 'Genesis Coupe',\n",
       " 'MINI Cooper': 'Roadster'}"
      ]
     },
     "execution_count": 31,
     "metadata": {},
     "output_type": "execute_result"
    }
   ],
   "source": [
    "ascars"
   ]
  },
  {
   "cell_type": "code",
   "execution_count": 32,
   "id": "eb47bba2",
   "metadata": {},
   "outputs": [
    {
     "data": {
      "text/plain": [
       "'370Z'"
      ]
     },
     "execution_count": 32,
     "metadata": {},
     "output_type": "execute_result"
    }
   ],
   "source": [
    "ascars[\"Nissan\"]"
   ]
  },
  {
   "cell_type": "code",
   "execution_count": 33,
   "id": "581c49b5",
   "metadata": {},
   "outputs": [
    {
     "data": {
      "text/plain": [
       "'Camaro'"
      ]
     },
     "execution_count": 33,
     "metadata": {},
     "output_type": "execute_result"
    }
   ],
   "source": [
    "ascars[\"Chevy\"]"
   ]
  },
  {
   "cell_type": "code",
   "execution_count": 34,
   "id": "92e6abd6",
   "metadata": {},
   "outputs": [],
   "source": [
    "ascars[\"MINI Cooper\"] = \"Coupe\""
   ]
  },
  {
   "cell_type": "code",
   "execution_count": 35,
   "id": "c4f99079",
   "metadata": {},
   "outputs": [
    {
     "data": {
      "text/plain": [
       "{'Ford': 'Mustang',\n",
       " 'Mazda': 'Miata',\n",
       " 'Scion': 'FR-S',\n",
       " 'Subaru': 'BRZ',\n",
       " 'Dodge': 'Challenger',\n",
       " 'Nissan': '370Z',\n",
       " 'Chevy': 'Camaro',\n",
       " 'Hyundai': 'Genesis Coupe',\n",
       " 'MINI Cooper': 'Coupe'}"
      ]
     },
     "execution_count": 35,
     "metadata": {},
     "output_type": "execute_result"
    }
   ],
   "source": [
    "ascars"
   ]
  },
  {
   "cell_type": "code",
   "execution_count": 36,
   "id": "3e004c00",
   "metadata": {},
   "outputs": [
    {
     "name": "stdout",
     "output_type": "stream",
     "text": [
      "Mustang\n",
      "Miata\n",
      "FR-S\n",
      "BRZ\n",
      "Challenger\n",
      "370Z\n",
      "Camaro\n",
      "Genesis Coupe\n",
      "Coupe\n"
     ]
    }
   ],
   "source": [
    "for value in ascars.values():\n",
    "    print(value)"
   ]
  },
  {
   "cell_type": "code",
   "execution_count": 37,
   "id": "0d2f04ed",
   "metadata": {},
   "outputs": [
    {
     "name": "stdout",
     "output_type": "stream",
     "text": [
      "Ford\n",
      "Mazda\n",
      "Scion\n",
      "Subaru\n",
      "Dodge\n",
      "Nissan\n",
      "Chevy\n",
      "Hyundai\n",
      "MINI Cooper\n"
     ]
    }
   ],
   "source": [
    "for key in ascars:\n",
    "    print(key)"
   ]
  },
  {
   "cell_type": "markdown",
   "id": "5c1e9151",
   "metadata": {},
   "source": [
    "Some summary facts:\n",
    "- Lists can be appended to and items can be addressed by item number.\n",
    "- Tuples are immutable (can't be changed). Item can be addressed by item number.\n",
    "- Dictionaries can be appended to. Items cannot be retrieved by item number, because the items have no inherent order. The values can be retrieved by using their keys."
   ]
  },
  {
   "cell_type": "markdown",
   "id": "38fcd965",
   "metadata": {},
   "source": [
    "#### Exercise:\n",
    "\n",
    "Lists, tuples and dictionaries Let's examine the differences. \n",
    "\n",
    "First, lists and tuples are ordered, so this makes sense: lis[2], tup[3] \n",
    "\n",
    "Dictionaries are not ordered, so dict[0] returns an error.\n",
    "\n",
    "Dictionaries don't look items up by index number, but by key; you can't do this with lists and tuples.\n",
    "[] is an empty list; () is an empty tuple; and {} is an empty dictionary.\n",
    "\n",
    "Tuples can't be modified, but lists and dictionaries can.\n",
    "\n",
    "You can stride lists and tuples, but not dictionaries. Dictionaries have no notion of order and hence cannot be sliced ([3:7] doesn't mean anything) and they cannot be strided -- it might appear that you can, but the order is unpredictable."
   ]
  },
  {
   "cell_type": "code",
   "execution_count": 41,
   "id": "aa1cc1dc",
   "metadata": {},
   "outputs": [],
   "source": [
    "namelist = [\"George\", \"Sally\", \"Catherine\", \"James\", \"Peggy\"]\n",
    "x,y,z = \"George\",\"Sally\",\"Catherine\"\n",
    "mytuple = x,y,z\n",
    "agedict = {\"George\":\"17\",\"Sally\":\"19\",\n",
    "             \"Catherine\":\"18\"}"
   ]
  },
  {
   "cell_type": "code",
   "execution_count": 39,
   "id": "df463a8c",
   "metadata": {},
   "outputs": [
    {
     "data": {
      "text/plain": [
       "'Sally'"
      ]
     },
     "execution_count": 39,
     "metadata": {},
     "output_type": "execute_result"
    }
   ],
   "source": [
    "namelist[1]"
   ]
  },
  {
   "cell_type": "code",
   "execution_count": 42,
   "id": "22bf9b5b",
   "metadata": {},
   "outputs": [
    {
     "data": {
      "text/plain": [
       "'Sally'"
      ]
     },
     "execution_count": 42,
     "metadata": {},
     "output_type": "execute_result"
    }
   ],
   "source": [
    "mytuple[1]"
   ]
  },
  {
   "cell_type": "code",
   "execution_count": 43,
   "id": "f97dae84",
   "metadata": {},
   "outputs": [
    {
     "ename": "KeyError",
     "evalue": "1",
     "output_type": "error",
     "traceback": [
      "\u001b[1;31m---------------------------------------------------------------------------\u001b[0m",
      "\u001b[1;31mKeyError\u001b[0m                                  Traceback (most recent call last)",
      "\u001b[1;32mC:\\Users\\AMAR~1.GAD\\AppData\\Local\\Temp/ipykernel_2936/1348559399.py\u001b[0m in \u001b[0;36m<module>\u001b[1;34m\u001b[0m\n\u001b[1;32m----> 1\u001b[1;33m \u001b[0magedict\u001b[0m\u001b[1;33m[\u001b[0m\u001b[1;36m1\u001b[0m\u001b[1;33m]\u001b[0m\u001b[1;33m\u001b[0m\u001b[1;33m\u001b[0m\u001b[0m\n\u001b[0m",
      "\u001b[1;31mKeyError\u001b[0m: 1"
     ]
    }
   ],
   "source": [
    "agedict[1]"
   ]
  },
  {
   "cell_type": "code",
   "execution_count": 44,
   "id": "2e767d03",
   "metadata": {},
   "outputs": [],
   "source": [
    "namelist.append(\"Rod\")"
   ]
  },
  {
   "cell_type": "code",
   "execution_count": 45,
   "id": "397d6e0d",
   "metadata": {},
   "outputs": [
    {
     "ename": "AttributeError",
     "evalue": "'tuple' object has no attribute 'append'",
     "output_type": "error",
     "traceback": [
      "\u001b[1;31m---------------------------------------------------------------------------\u001b[0m",
      "\u001b[1;31mAttributeError\u001b[0m                            Traceback (most recent call last)",
      "\u001b[1;32mC:\\Users\\AMAR~1.GAD\\AppData\\Local\\Temp/ipykernel_2936/3136270752.py\u001b[0m in \u001b[0;36m<module>\u001b[1;34m\u001b[0m\n\u001b[1;32m----> 1\u001b[1;33m \u001b[0mmytuple\u001b[0m\u001b[1;33m.\u001b[0m\u001b[0mappend\u001b[0m\u001b[1;33m(\u001b[0m\u001b[1;34m\"Rod\"\u001b[0m\u001b[1;33m)\u001b[0m\u001b[1;33m\u001b[0m\u001b[1;33m\u001b[0m\u001b[0m\n\u001b[0m",
      "\u001b[1;31mAttributeError\u001b[0m: 'tuple' object has no attribute 'append'"
     ]
    }
   ],
   "source": [
    "mytuple.append(\"Rod\")"
   ]
  },
  {
   "cell_type": "code",
   "execution_count": 46,
   "id": "0b76626d",
   "metadata": {},
   "outputs": [
    {
     "ename": "AttributeError",
     "evalue": "'dict' object has no attribute 'append'",
     "output_type": "error",
     "traceback": [
      "\u001b[1;31m---------------------------------------------------------------------------\u001b[0m",
      "\u001b[1;31mAttributeError\u001b[0m                            Traceback (most recent call last)",
      "\u001b[1;32mC:\\Users\\AMAR~1.GAD\\AppData\\Local\\Temp/ipykernel_2936/722565005.py\u001b[0m in \u001b[0;36m<module>\u001b[1;34m\u001b[0m\n\u001b[1;32m----> 1\u001b[1;33m \u001b[0magedict\u001b[0m\u001b[1;33m.\u001b[0m\u001b[0mappend\u001b[0m\u001b[1;33m(\u001b[0m\u001b[1;34m\"Rod\"\u001b[0m\u001b[1;33m)\u001b[0m\u001b[1;33m\u001b[0m\u001b[1;33m\u001b[0m\u001b[0m\n\u001b[0m",
      "\u001b[1;31mAttributeError\u001b[0m: 'dict' object has no attribute 'append'"
     ]
    }
   ],
   "source": [
    "agedict.append(\"Rod\")"
   ]
  },
  {
   "cell_type": "code",
   "execution_count": 47,
   "id": "030e901c",
   "metadata": {},
   "outputs": [],
   "source": [
    "namelist[1] = \"Rod\""
   ]
  },
  {
   "cell_type": "code",
   "execution_count": 48,
   "id": "e0f401e8",
   "metadata": {},
   "outputs": [
    {
     "ename": "TypeError",
     "evalue": "'tuple' object does not support item assignment",
     "output_type": "error",
     "traceback": [
      "\u001b[1;31m---------------------------------------------------------------------------\u001b[0m",
      "\u001b[1;31mTypeError\u001b[0m                                 Traceback (most recent call last)",
      "\u001b[1;32mC:\\Users\\AMAR~1.GAD\\AppData\\Local\\Temp/ipykernel_2936/3167905576.py\u001b[0m in \u001b[0;36m<module>\u001b[1;34m\u001b[0m\n\u001b[1;32m----> 1\u001b[1;33m \u001b[0mmytuple\u001b[0m\u001b[1;33m[\u001b[0m\u001b[1;36m1\u001b[0m\u001b[1;33m]\u001b[0m \u001b[1;33m=\u001b[0m \u001b[1;34m\"Rod\"\u001b[0m\u001b[1;33m\u001b[0m\u001b[1;33m\u001b[0m\u001b[0m\n\u001b[0m",
      "\u001b[1;31mTypeError\u001b[0m: 'tuple' object does not support item assignment"
     ]
    }
   ],
   "source": [
    "mytuple[1] = \"Rod\""
   ]
  },
  {
   "cell_type": "code",
   "execution_count": 50,
   "id": "abd0fc15",
   "metadata": {},
   "outputs": [],
   "source": [
    "agedict[\"Rod\"] = \"23\""
   ]
  },
  {
   "cell_type": "code",
   "execution_count": 51,
   "id": "1eea3685",
   "metadata": {},
   "outputs": [
    {
     "data": {
      "text/plain": [
       "{'George': '17', 'Sally': '19', 'Catherine': '18', 'Rod': '23'}"
      ]
     },
     "execution_count": 51,
     "metadata": {},
     "output_type": "execute_result"
    }
   ],
   "source": [
    "agedict"
   ]
  }
 ],
 "metadata": {
  "kernelspec": {
   "display_name": "Python 3 (ipykernel)",
   "language": "python",
   "name": "python3"
  },
  "language_info": {
   "codemirror_mode": {
    "name": "ipython",
    "version": 3
   },
   "file_extension": ".py",
   "mimetype": "text/x-python",
   "name": "python",
   "nbconvert_exporter": "python",
   "pygments_lexer": "ipython3",
   "version": "3.9.7"
  }
 },
 "nbformat": 4,
 "nbformat_minor": 5
}
